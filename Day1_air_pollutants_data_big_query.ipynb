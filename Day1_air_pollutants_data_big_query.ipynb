{
  "cells": [
    {
      "metadata": {
        "_cell_guid": "aac1eb7a-6eb0-4239-bf0c-7edf5dd242a1",
        "_uuid": "56f92656487e77f60088d9afe9969a878ac1ead5"
      },
      "cell_type": "markdown",
      "source": "<table>\n    <tr>\n        <td>\n        <center>\n        <font size=\"+1\">If you haven't used BigQuery datasets on Kaggle previously, check out the <a href = \"https://www.kaggle.com/rtatman/sql-scavenger-hunt-handbook/\">Scavenger Hunt Handbook</a> kernel to get started.</font>\n        </center>\n        </td>\n    </tr>\n</table>"
    },
    {
      "metadata": {
        "_cell_guid": "2fc58cbb-15ec-42e5-8f81-ca4cba5db07c",
        "_uuid": "8710f8a626efbd27c8e53b723e97813fdd388822"
      },
      "cell_type": "markdown",
      "source": "# SELECT, FROM & WHERE\n\nToday, we're going to learn how to use SELECT, FROM and WHERE to get data from a specific column based on the value of another column. For the purposes of this explanation, we'll be using this imaginary database, `pet_records` which has just one table in it, called `pets`, which looks like this:\n\n![](https://i.imgur.com/Ef4Puo3.png)\n\n### SELECT ... FROM\n___\n\nThe most basic SQL query is to select a single column from a specific table. To do this, you need to tell SELECT which column to select and then specify what table that column is from using from. \n\n> **Do you need to capitalize SELECT and FROM?** No, SQL doesn't care about capitalization. However, it's customary to capitalize your SQL commands and it makes your queries a bit easier to read.\n\nSo, if we wanted to select the \"Name\" column from the pets table of the pet_records database (if that database were accessible as a BigQuery dataset on Kaggle , which it is not, because I made it up), we would do this:\n\n    SELECT Name\n    FROM `bigquery-public-data.pet_records.pets`\n\nWhich would return the highlighted data from this figure.\n\n![](https://i.imgur.com/8FdVyFP.png)\n\n### WHERE ...\n___\n\nWhen you're working with BigQuery datasets, you're almost always going to want to return only certain rows, usually based on the value of a different column. You can do this using the WHERE clause, which will only return the rows where the WHERE clause evaluates to true.\n\nLet's look at an example:\n\n    SELECT Name\n    FROM `bigquery-public-data.pet_records.pets`\n    WHERE Animal = \"Cat\"\n\nThis query will only return the entries from the \"Name\" column that are in rows where the \"Animal\" column has the text \"Cat\" in it. Those are the cells highlighted in blue in this figure:\n\n![](https://i.imgur.com/Va52Qdl.png)\n"
    },
    {
      "metadata": {
        "_cell_guid": "2e2563a2-5b9d-42a4-8fa3-da4d4150b24d",
        "_uuid": "0482e52934a735a43d562fe7beeabb85fe70e338"
      },
      "cell_type": "markdown",
      "source": "## Example: What are all the U.S. cities in the OpenAQ dataset?\n___\n\nNow that you've got the basics down, let's work through an example with a real dataset. Today we're going to be working with the OpenAQ dataset, which has information on air quality around the world. (The data in it should be current: it's updated weekly.)\n\nTo help get you situated, I'm going to run through a complete query first. Then it will be your turn to get started running your queries!\n\nFirst, I'm going to set up everything we need to run queries and take a quick peek at what tables are in our database."
    },
    {
      "metadata": {
        "_cell_guid": "9a26e7db-812d-4fbb-b457-e09d323af127",
        "_uuid": "ab40ebc98c64c78df9a11d922bbc23573a43aefe",
        "trusted": true
      },
      "cell_type": "code",
      "source": "# import package with helper functions \nimport bq_helper\n\n# create a helper object for this dataset\nopen_aq = bq_helper.BigQueryHelper(active_project=\"bigquery-public-data\",\n                                   dataset_name=\"openaq\")\n\n# print all the tables in this dataset (there's only one!)\nopen_aq.list_tables()",
      "execution_count": 7,
      "outputs": [
        {
          "data": {
            "text/plain": "['global_air_quality']"
          },
          "execution_count": 7,
          "metadata": {},
          "output_type": "execute_result"
        }
      ]
    },
    {
      "metadata": {
        "_cell_guid": "cf3f3bd4-ef30-45d1-bdb3-5c8e7d3ec194",
        "_uuid": "0f5207bb8a05b44d1af2e002fde6260fb01baa1d"
      },
      "cell_type": "markdown",
      "source": "I'm going to take a peek at the first couple of rows to help me see what sort of data is in this dataset."
    },
    {
      "metadata": {
        "_cell_guid": "d85ed84b-58b3-48c1-8ea6-4c89ad254bd8",
        "_uuid": "dad17f046aac83f2c219452e032fd72227ea3e7a",
        "trusted": true
      },
      "cell_type": "code",
      "source": "# print the first couple rows of the \"global_air_quality\" dataset\nopen_aq.head(\"global_air_quality\")",
      "execution_count": 3,
      "outputs": [
        {
          "data": {
            "text/html": "<div>\n<style>\n    .dataframe thead tr:only-child th {\n        text-align: right;\n    }\n\n    .dataframe thead th {\n        text-align: left;\n    }\n\n    .dataframe tbody tr th {\n        vertical-align: top;\n    }\n</style>\n<table border=\"1\" class=\"dataframe\">\n  <thead>\n    <tr style=\"text-align: right;\">\n      <th></th>\n      <th>location</th>\n      <th>city</th>\n      <th>country</th>\n      <th>pollutant</th>\n      <th>value</th>\n      <th>timestamp</th>\n      <th>unit</th>\n      <th>source_name</th>\n      <th>latitude</th>\n      <th>longitude</th>\n      <th>averaged_over_in_hours</th>\n    </tr>\n  </thead>\n  <tbody>\n    <tr>\n      <th>0</th>\n      <td>Mobile_Cle Elum</td>\n      <td>037</td>\n      <td>US</td>\n      <td>pm25</td>\n      <td>0.00</td>\n      <td>2017-09-26 20:00:00+00:00</td>\n      <td>µg/m³</td>\n      <td>AirNow</td>\n      <td>47.197630</td>\n      <td>-120.958230</td>\n      <td>1.0</td>\n    </tr>\n    <tr>\n      <th>1</th>\n      <td>Mobile_WhiteSalmon</td>\n      <td>039</td>\n      <td>US</td>\n      <td>pm25</td>\n      <td>0.00</td>\n      <td>2017-09-26 20:00:00+00:00</td>\n      <td>µg/m³</td>\n      <td>AirNow</td>\n      <td>45.732414</td>\n      <td>-121.492330</td>\n      <td>1.0</td>\n    </tr>\n    <tr>\n      <th>2</th>\n      <td>Mobile_Newport</td>\n      <td>051</td>\n      <td>US</td>\n      <td>pm25</td>\n      <td>0.00</td>\n      <td>2017-09-21 18:00:00+00:00</td>\n      <td>µg/m³</td>\n      <td>AirNow</td>\n      <td>48.186485</td>\n      <td>-117.049160</td>\n      <td>1.0</td>\n    </tr>\n    <tr>\n      <th>3</th>\n      <td>FR20047</td>\n      <td>Ain</td>\n      <td>FR</td>\n      <td>pm10</td>\n      <td>12.38</td>\n      <td>2018-02-12 22:00:00+00:00</td>\n      <td>µg/m³</td>\n      <td>EEA France</td>\n      <td>45.823223</td>\n      <td>4.953958</td>\n      <td>1.0</td>\n    </tr>\n    <tr>\n      <th>4</th>\n      <td>FR20047</td>\n      <td>Ain</td>\n      <td>FR</td>\n      <td>o3</td>\n      <td>37.90</td>\n      <td>2018-02-12 21:00:00+00:00</td>\n      <td>µg/m³</td>\n      <td>EEA France</td>\n      <td>45.823223</td>\n      <td>4.953958</td>\n      <td>1.0</td>\n    </tr>\n  </tbody>\n</table>\n</div>",
            "text/plain": "             location city country pollutant  value                 timestamp  \\\n0     Mobile_Cle Elum  037      US      pm25   0.00 2017-09-26 20:00:00+00:00   \n1  Mobile_WhiteSalmon  039      US      pm25   0.00 2017-09-26 20:00:00+00:00   \n2      Mobile_Newport  051      US      pm25   0.00 2017-09-21 18:00:00+00:00   \n3             FR20047  Ain      FR      pm10  12.38 2018-02-12 22:00:00+00:00   \n4             FR20047  Ain      FR        o3  37.90 2018-02-12 21:00:00+00:00   \n\n    unit source_name   latitude   longitude  averaged_over_in_hours  \n0  µg/m³      AirNow  47.197630 -120.958230                     1.0  \n1  µg/m³      AirNow  45.732414 -121.492330                     1.0  \n2  µg/m³      AirNow  48.186485 -117.049160                     1.0  \n3  µg/m³  EEA France  45.823223    4.953958                     1.0  \n4  µg/m³  EEA France  45.823223    4.953958                     1.0  "
          },
          "execution_count": 3,
          "metadata": {},
          "output_type": "execute_result"
        }
      ]
    },
    {
      "metadata": {
        "_cell_guid": "c4cf499d-a495-4717-a390-523107b3e1b2",
        "_uuid": "e70b02fc205ca45859a8520c211e11e3f46a3811"
      },
      "cell_type": "markdown",
      "source": "Great, everything looks good! Now that I'm set up, I'm going to put together a query. I want to select all the values from the \"city\" column for the rows there the \"country\" column is \"us\" (for \"United States\"). \n\n> **What's up with the triple quotation marks (\"\"\")?** These tell Python that everything inside them is a single string, even though we have line breaks in it. The line breaks aren't necessary, but they do make it much easier to read your query."
    },
    {
      "metadata": {
        "_cell_guid": "787efd2f-8f1e-4804-982c-4cd86888c56f",
        "_uuid": "42f5bfb36cba82ccf9250a9c71077ce4154b4a32",
        "collapsed": true,
        "trusted": true
      },
      "cell_type": "code",
      "source": "# query to select all the items from the \"city\" column where the\n# \"country\" column is \"us\"\nquery = \"\"\"SELECT city\n            FROM `bigquery-public-data.openaq.global_air_quality`\n            WHERE country = 'US'\n        \"\"\"",
      "execution_count": 4,
      "outputs": []
    },
    {
      "metadata": {
        "_cell_guid": "baf936ce-7334-4038-9c6a-d2a8d2d4d8e4",
        "_uuid": "b16b54b3e2d1b478f9179d6e73f0660c6aa973d4"
      },
      "cell_type": "markdown",
      "source": "> **Important:**  Note that the argument we pass to FROM is *not* in single or double quotation marks (' or \"). It is in backticks (\\`). If you use quotation marks instead of backticks, you'll get this error when you try to run the query: `Syntax error: Unexpected string literal` \n\nNow I can use this query to get information from our open_aq dataset. I'm using the `BigQueryHelper.query_to_pandas_safe()` method here because it won't run a query if it's larger than 1 gigabyte, which helps me avoid accidentally running a very large query. See the [Scavenger Hunt Handbook ](https://www.kaggle.com/rtatman/sql-scavenger-hunt-handbook/)for more details. "
    },
    {
      "metadata": {
        "_cell_guid": "b37cf4b8-1d54-456b-9e52-8e139b166a6e",
        "_uuid": "ecde0a65fad06ef5d22d896484d8cbe05f874e12",
        "collapsed": true,
        "trusted": true
      },
      "cell_type": "code",
      "source": "# the query_to_pandas_safe will only return a result if it's less\n# than one gigabyte (by default)\nus_cities = open_aq.query_to_pandas_safe(query)",
      "execution_count": 8,
      "outputs": []
    },
    {
      "metadata": {
        "_cell_guid": "9f642ae3-1b06-479a-9e31-a0f21423ecaf",
        "_uuid": "5f3ff35c822b8809cf07180d15ad651bcad4eb46"
      },
      "cell_type": "markdown",
      "source": "Now I've got a dataframe called us_cities, which I can use like I would any other dataframe:"
    },
    {
      "metadata": {
        "_cell_guid": "3bc9736e-9b18-44c2-9444-e0946cad8b79",
        "_uuid": "2d6b6cca96280cd1a4c4568c723fd35edff7fffa",
        "trusted": true
      },
      "cell_type": "code",
      "source": "# What five cities have the most measurements taken there?\nus_cities.city.value_counts().head()",
      "execution_count": 6,
      "outputs": [
        {
          "data": {
            "text/plain": "Phoenix-Mesa-Scottsdale                     85\nHouston                                     81\nLos Angeles-Long Beach-Santa Ana            60\nNew York-Northern New Jersey-Long Island    57\nRiverside-San Bernardino-Ontario            56\nName: city, dtype: int64"
          },
          "execution_count": 6,
          "metadata": {},
          "output_type": "execute_result"
        }
      ]
    },
    {
      "metadata": {
        "trusted": true,
        "collapsed": true,
        "_uuid": "4f47028826b048fe95b6b0ab796592bd5e47f365"
      },
      "cell_type": "code",
      "source": "#us_cities.city.value_counts()",
      "execution_count": 18,
      "outputs": []
    },
    {
      "metadata": {
        "_cell_guid": "fda0a223-5fd5-4524-a402-ecaef2905fa0",
        "_kg_hide-output": true,
        "_uuid": "654d2baeecb8757e10d02a63ec6cc63fe2df2339"
      },
      "cell_type": "markdown",
      "source": "# Scavenger hunt\n___\n\nNow it's your turn! Here's the questions I would like you to get the data to answer:\n\n* Which countries use a unit other than ppm to measure any type of pollution? (Hint: to get rows where the value *isn't* something, use \"!=\")\n* Which pollutants have a value of exactly 0?\n\nIn order to answer these questions, you can fork this notebook by hitting the blue \"Fork Notebook\" at the very top of this page (you may have to scroll up).  \"Forking\" something is making a copy of it that you can edit on your own without changing the original."
    },
    {
      "metadata": {
        "_cell_guid": "a4f6aab8-ae9b-4123-87e9-94aadf6a757c",
        "_uuid": "c346ce030dd69d682f91756fc9185ae7845066fb",
        "trusted": true,
        "collapsed": true
      },
      "cell_type": "code",
      "source": "# Your code goes here :)\n\nquery1 = \"\"\"SELECT country\n            FROM `bigquery-public-data.openaq.global_air_quality`\n            WHERE unit != 'ppm'\n        \"\"\"\n#query1 = \"\"\"select country from 'bigquery-public-data.openaq.global_air_quality' where unit != ppm\"\"\"\n",
      "execution_count": 22,
      "outputs": []
    },
    {
      "metadata": {
        "trusted": true,
        "collapsed": true,
        "_uuid": "90551976d0ad412937555ad2bdfc8163b9aaf5b8"
      },
      "cell_type": "code",
      "source": "countries_with_not_ppm = open_aq.query_to_pandas_safe(query1)",
      "execution_count": 23,
      "outputs": []
    },
    {
      "metadata": {
        "trusted": true,
        "_uuid": "128b574932ab3d8c21dcd240e09896000acd7fae"
      },
      "cell_type": "code",
      "source": "countries_with_not_ppm",
      "execution_count": 26,
      "outputs": [
        {
          "output_type": "execute_result",
          "execution_count": 26,
          "data": {
            "text/plain": "      country\n0          AD\n1          AD\n2          AD\n3          AD\n4          AD\n5          AD\n6          AD\n7          AE\n8          AR\n9          AR\n10         AR\n11         AR\n12         AT\n13         AT\n14         AT\n15         AT\n16         AT\n17         AT\n18         AT\n19         AT\n20         AT\n21         AT\n22         AT\n23         AT\n24         AT\n25         AT\n26         AT\n27         AT\n28         AT\n29         AT\n...       ...\n13762      US\n13763      US\n13764      US\n13765      US\n13766      US\n13767      US\n13768      US\n13769      US\n13770      US\n13771      US\n13772      US\n13773      US\n13774      US\n13775      US\n13776      US\n13777      US\n13778      US\n13779      US\n13780      US\n13781      US\n13782      US\n13783      US\n13784      US\n13785      US\n13786      VN\n13787      VN\n13788      VN\n13789      XK\n13790      ZA\n13791      ZA\n\n[13792 rows x 1 columns]",
            "text/html": "<div>\n<style>\n    .dataframe thead tr:only-child th {\n        text-align: right;\n    }\n\n    .dataframe thead th {\n        text-align: left;\n    }\n\n    .dataframe tbody tr th {\n        vertical-align: top;\n    }\n</style>\n<table border=\"1\" class=\"dataframe\">\n  <thead>\n    <tr style=\"text-align: right;\">\n      <th></th>\n      <th>country</th>\n    </tr>\n  </thead>\n  <tbody>\n    <tr>\n      <th>0</th>\n      <td>AD</td>\n    </tr>\n    <tr>\n      <th>1</th>\n      <td>AD</td>\n    </tr>\n    <tr>\n      <th>2</th>\n      <td>AD</td>\n    </tr>\n    <tr>\n      <th>3</th>\n      <td>AD</td>\n    </tr>\n    <tr>\n      <th>4</th>\n      <td>AD</td>\n    </tr>\n    <tr>\n      <th>5</th>\n      <td>AD</td>\n    </tr>\n    <tr>\n      <th>6</th>\n      <td>AD</td>\n    </tr>\n    <tr>\n      <th>7</th>\n      <td>AE</td>\n    </tr>\n    <tr>\n      <th>8</th>\n      <td>AR</td>\n    </tr>\n    <tr>\n      <th>9</th>\n      <td>AR</td>\n    </tr>\n    <tr>\n      <th>10</th>\n      <td>AR</td>\n    </tr>\n    <tr>\n      <th>11</th>\n      <td>AR</td>\n    </tr>\n    <tr>\n      <th>12</th>\n      <td>AT</td>\n    </tr>\n    <tr>\n      <th>13</th>\n      <td>AT</td>\n    </tr>\n    <tr>\n      <th>14</th>\n      <td>AT</td>\n    </tr>\n    <tr>\n      <th>15</th>\n      <td>AT</td>\n    </tr>\n    <tr>\n      <th>16</th>\n      <td>AT</td>\n    </tr>\n    <tr>\n      <th>17</th>\n      <td>AT</td>\n    </tr>\n    <tr>\n      <th>18</th>\n      <td>AT</td>\n    </tr>\n    <tr>\n      <th>19</th>\n      <td>AT</td>\n    </tr>\n    <tr>\n      <th>20</th>\n      <td>AT</td>\n    </tr>\n    <tr>\n      <th>21</th>\n      <td>AT</td>\n    </tr>\n    <tr>\n      <th>22</th>\n      <td>AT</td>\n    </tr>\n    <tr>\n      <th>23</th>\n      <td>AT</td>\n    </tr>\n    <tr>\n      <th>24</th>\n      <td>AT</td>\n    </tr>\n    <tr>\n      <th>25</th>\n      <td>AT</td>\n    </tr>\n    <tr>\n      <th>26</th>\n      <td>AT</td>\n    </tr>\n    <tr>\n      <th>27</th>\n      <td>AT</td>\n    </tr>\n    <tr>\n      <th>28</th>\n      <td>AT</td>\n    </tr>\n    <tr>\n      <th>29</th>\n      <td>AT</td>\n    </tr>\n    <tr>\n      <th>...</th>\n      <td>...</td>\n    </tr>\n    <tr>\n      <th>13762</th>\n      <td>US</td>\n    </tr>\n    <tr>\n      <th>13763</th>\n      <td>US</td>\n    </tr>\n    <tr>\n      <th>13764</th>\n      <td>US</td>\n    </tr>\n    <tr>\n      <th>13765</th>\n      <td>US</td>\n    </tr>\n    <tr>\n      <th>13766</th>\n      <td>US</td>\n    </tr>\n    <tr>\n      <th>13767</th>\n      <td>US</td>\n    </tr>\n    <tr>\n      <th>13768</th>\n      <td>US</td>\n    </tr>\n    <tr>\n      <th>13769</th>\n      <td>US</td>\n    </tr>\n    <tr>\n      <th>13770</th>\n      <td>US</td>\n    </tr>\n    <tr>\n      <th>13771</th>\n      <td>US</td>\n    </tr>\n    <tr>\n      <th>13772</th>\n      <td>US</td>\n    </tr>\n    <tr>\n      <th>13773</th>\n      <td>US</td>\n    </tr>\n    <tr>\n      <th>13774</th>\n      <td>US</td>\n    </tr>\n    <tr>\n      <th>13775</th>\n      <td>US</td>\n    </tr>\n    <tr>\n      <th>13776</th>\n      <td>US</td>\n    </tr>\n    <tr>\n      <th>13777</th>\n      <td>US</td>\n    </tr>\n    <tr>\n      <th>13778</th>\n      <td>US</td>\n    </tr>\n    <tr>\n      <th>13779</th>\n      <td>US</td>\n    </tr>\n    <tr>\n      <th>13780</th>\n      <td>US</td>\n    </tr>\n    <tr>\n      <th>13781</th>\n      <td>US</td>\n    </tr>\n    <tr>\n      <th>13782</th>\n      <td>US</td>\n    </tr>\n    <tr>\n      <th>13783</th>\n      <td>US</td>\n    </tr>\n    <tr>\n      <th>13784</th>\n      <td>US</td>\n    </tr>\n    <tr>\n      <th>13785</th>\n      <td>US</td>\n    </tr>\n    <tr>\n      <th>13786</th>\n      <td>VN</td>\n    </tr>\n    <tr>\n      <th>13787</th>\n      <td>VN</td>\n    </tr>\n    <tr>\n      <th>13788</th>\n      <td>VN</td>\n    </tr>\n    <tr>\n      <th>13789</th>\n      <td>XK</td>\n    </tr>\n    <tr>\n      <th>13790</th>\n      <td>ZA</td>\n    </tr>\n    <tr>\n      <th>13791</th>\n      <td>ZA</td>\n    </tr>\n  </tbody>\n</table>\n<p>13792 rows × 1 columns</p>\n</div>"
          },
          "metadata": {}
        }
      ]
    },
    {
      "metadata": {
        "trusted": true,
        "_uuid": "1de1818be4162db2dbde89db7a205ec64b89d183"
      },
      "cell_type": "code",
      "source": "query2 = \"\"\"select * from `bigquery-public-data.openaq.global_air_quality` where value =0\n\"\"\"",
      "execution_count": 33,
      "outputs": []
    },
    {
      "metadata": {
        "trusted": true,
        "_uuid": "2b6c84e4115530c9e731fe9478d2ca10a149dbdd"
      },
      "cell_type": "code",
      "source": "value_zero=open_aq.query_to_pandas_safe(query2)",
      "execution_count": 34,
      "outputs": []
    },
    {
      "metadata": {
        "trusted": true,
        "_uuid": "fb3068232eaa3b668013fb584e864668b400aeed"
      },
      "cell_type": "code",
      "source": "value_zero",
      "execution_count": 35,
      "outputs": [
        {
          "output_type": "execute_result",
          "execution_count": 35,
          "data": {
            "text/plain": "                 location                   city country pollutant  value  \\\n0              Ponca City                    KAY      US       so2    0.0   \n1              Blackstone                    LEE      US       so2    0.0   \n2              Blackstone                    LEE      US       no2    0.0   \n3         Miami Town Site                   GILA      US       so2    0.0   \n4              Ocean View                   Hilo      US       so2    0.0   \n5     Hawaii Volcanoes NP                   Hilo      US       so2    0.0   \n6                    Lima                   Lima      US       so2    0.0   \n7          Rome-Kraftsman                   Rome      US       so2    0.0   \n8        East High School                  Akron      US       so2    0.0   \n9       Akron - NIHF_STEM                  Akron      US        co    0.0   \n10      Akron - NIHF_STEM                  Akron      US       so2    0.0   \n11                   KUT2                  BERKS      US        o3    0.0   \n12            Jerome Mack                  CLARK      US       so2    0.0   \n13   Horicon Wildlife Are                  DODGE      US       so2    0.0   \n14                    SPG                  DUVAL      US       so2    0.0   \n15                 Lee HS                  DUVAL      US        co    0.0   \n16            Kooker Park                  DUVAL      US       so2    0.0   \n17                  Pryor                  MAYES      US       so2    0.0   \n18                Pomeroy                  MEIGS      US       so2    0.0   \n19         Macon Forestry                  Macon      US       so2    0.0   \n20             Tulsa 0175                  TULSA      US       so2    0.0   \n21             Tulsa 0235                  TULSA      US       so2    0.0   \n22                  Tulsa                  Tulsa      US       so2    0.0   \n23             Tulsa 0179                  Tulsa      US       so2    0.0   \n24       Athens Supersite                 Athens      US       so2    0.0   \n25     Amanda  Elementary                 BUTLER      US       so2    0.0   \n26   NCore - White Mounta                 Bishop      US       so2    0.0   \n27          Durham Armory                 Durham      US       so2    0.0   \n28             POTAWATOMI                 FOREST      US       no2    0.0   \n29             POTAWATOMI                 FOREST      US       so2    0.0   \n..                    ...                    ...     ...       ...    ...   \n797               LT00031               Klaipeda      LT       so2    0.0   \n798               LT00031               Klaipeda      LT        co    0.0   \n799               LT00031               Klaipeda      LT       no2    0.0   \n800               LT00033               Klaipeda      LT        o3    0.0   \n801               LT00033               Klaipeda      LT      pm25    0.0   \n802               LT00033               Klaipeda      LT      pm10    0.0   \n803               LT00033               Klaipeda      LT        co    0.0   \n804               LT00033               Klaipeda      LT       no2    0.0   \n805               LT00023                Telšiai      LT      pm10    0.0   \n806               LT00023                Telšiai      LT       no2    0.0   \n807               LT00023                Telšiai      LT        o3    0.0   \n808               LT00023                Telšiai      LT       so2    0.0   \n809               LT00053                Telšiai      LT       no2    0.0   \n810               LT00053                Telšiai      LT        o3    0.0   \n811               LT00053                Telšiai      LT       so2    0.0   \n812               LT00021               Šiauliai      LT      pm10    0.0   \n813               LT00021               Šiauliai      LT      pm25    0.0   \n814               LT00021               Šiauliai      LT       so2    0.0   \n815               LT00022               Šiauliai      LT       so2    0.0   \n816               LT00022               Šiauliai      LT        co    0.0   \n817               LT00022               Šiauliai      LT      pm10    0.0   \n818               LT00022               Šiauliai      LT       no2    0.0   \n819               LT00022               Šiauliai      LT        o3    0.0   \n820               LT00012              Panevežys      LT       no2    0.0   \n821               LT00012              Panevežys      LT        co    0.0   \n822               LT00012              Panevežys      LT      pm10    0.0   \n823               LT00012              Panevežys      LT        o3    0.0   \n824        PARCO BERTOZZI                 FAENZA      IT        o3    0.0   \n825                Lytton  South East Queensland      AU      pm25    0.0   \n826                Lytton  South East Queensland      AU      pm10    0.0   \n\n                    timestamp   unit             source_name   latitude  \\\n0   2018-02-11 11:00:00+00:00    ppm                  AirNow  36.697190   \n1   2018-02-11 11:00:00+00:00    ppm                  AirNow  35.432500   \n2   2018-02-11 11:00:00+00:00    ppm                  AirNow  35.432500   \n3   2017-12-18 14:00:00+00:00    ppm                  AirNow  33.397434   \n4   2018-02-11 11:00:00+00:00    ppm                  AirNow  19.117561   \n5   2018-02-10 16:00:00+00:00    ppm                  AirNow  19.430800   \n6   2018-02-11 11:00:00+00:00    ppm                  AirNow  40.771000   \n7   2018-02-11 11:00:00+00:00    ppm                  AirNow  34.243645   \n8   2018-02-11 11:00:00+00:00    ppm                  AirNow  41.063526   \n9   2017-04-25 17:00:00+00:00    ppm                  AirNow  41.079140   \n10  2017-04-25 17:00:00+00:00    ppm                  AirNow  41.079140   \n11  2018-02-11 11:00:00+00:00    ppm                  AirNow  40.514080   \n12  2018-02-11 11:00:00+00:00    ppm                  AirNow  36.141876   \n13  2018-02-08 19:00:00+00:00    ppm                  AirNow  43.466110   \n14  2018-02-11 11:00:00+00:00    ppm                  AirNow  30.309196   \n15  2017-12-21 09:00:00+00:00    ppm                  AirNow  30.308535   \n16  2018-02-11 11:00:00+00:00    ppm                  AirNow  30.356112   \n17  2018-02-11 11:00:00+00:00    ppm                  AirNow  36.229088   \n18  2016-07-07 16:00:00+00:00    ppm                  AirNow  39.038500   \n19  2018-02-11 11:00:00+00:00    ppm                  AirNow  32.803100   \n20  2018-02-11 11:00:00+00:00    ppm                  AirNow  36.149876   \n21  2018-02-11 11:00:00+00:00    ppm                  AirNow  36.126945   \n22  2018-02-11 11:00:00+00:00    ppm                  AirNow  36.206700   \n23  2018-02-11 11:00:00+00:00    ppm                  AirNow  36.154830   \n24  2017-04-13 14:00:00+00:00    ppm                  AirNow  39.308000   \n25  2018-02-11 11:00:00+00:00    ppm                  AirNow  39.478848   \n26  2017-12-17 05:00:00+00:00    ppm                  AirNow  37.360703   \n27  2018-02-11 11:00:00+00:00    ppm                  AirNow  35.991900   \n28  2016-03-23 15:00:00+00:00    ppm                  AirNow  45.563900   \n29  2018-02-08 19:00:00+00:00    ppm                  AirNow  45.563900   \n..                        ...    ...                     ...        ...   \n797 2018-02-13 01:00:00+00:00  µg/m³           EEA Lithuania  55.707780   \n798 2018-02-13 01:00:00+00:00  µg/m³           EEA Lithuania  55.707780   \n799 2018-02-13 01:00:00+00:00  µg/m³           EEA Lithuania  55.707780   \n800 2018-02-13 01:00:00+00:00  µg/m³           EEA Lithuania  55.690000   \n801 2018-02-13 01:00:00+00:00  µg/m³           EEA Lithuania  55.690000   \n802 2018-02-13 01:00:00+00:00  µg/m³           EEA Lithuania  55.690000   \n803 2018-02-13 01:00:00+00:00  µg/m³           EEA Lithuania  55.690000   \n804 2018-02-13 01:00:00+00:00  µg/m³           EEA Lithuania  55.690000   \n805 2018-02-13 04:00:00+00:00  µg/m³           EEA Lithuania  56.309723   \n806 2018-02-13 04:00:00+00:00  µg/m³           EEA Lithuania  56.309723   \n807 2018-02-13 04:00:00+00:00  µg/m³           EEA Lithuania  56.309723   \n808 2018-02-13 04:00:00+00:00  µg/m³           EEA Lithuania  56.309723   \n809 2018-02-13 01:00:00+00:00  µg/m³           EEA Lithuania  56.008335   \n810 2018-02-13 01:00:00+00:00  µg/m³           EEA Lithuania  56.008335   \n811 2018-02-13 01:00:00+00:00  µg/m³           EEA Lithuania  56.008335   \n812 2018-02-13 04:00:00+00:00  µg/m³           EEA Lithuania  56.319440   \n813 2018-02-13 04:00:00+00:00  µg/m³           EEA Lithuania  56.319440   \n814 2018-02-13 04:00:00+00:00  µg/m³           EEA Lithuania  56.319440   \n815 2018-02-13 04:00:00+00:00  µg/m³           EEA Lithuania  55.937836   \n816 2018-02-13 04:00:00+00:00  µg/m³           EEA Lithuania  55.937836   \n817 2018-02-13 04:00:00+00:00  µg/m³           EEA Lithuania  55.937836   \n818 2018-02-13 04:00:00+00:00  µg/m³           EEA Lithuania  55.937836   \n819 2018-02-13 04:00:00+00:00  µg/m³           EEA Lithuania  55.937836   \n820 2018-02-13 04:00:00+00:00  µg/m³           EEA Lithuania  55.725000   \n821 2018-02-13 04:00:00+00:00  µg/m³           EEA Lithuania  55.725000   \n822 2018-02-13 04:00:00+00:00  µg/m³           EEA Lithuania  55.725000   \n823 2018-02-13 04:00:00+00:00  µg/m³           EEA Lithuania  55.725000   \n824 2018-02-08 23:00:00+00:00  µg/m³    Arpae Emilia-Romagna  44.285600   \n825 2018-02-13 01:00:00+00:00  µg/m³  Australia - Queensland -27.406500   \n826 2018-02-13 01:00:00+00:00  µg/m³  Australia - Queensland -27.406500   \n\n      longitude  averaged_over_in_hours  \n0    -97.081276                     1.0  \n1    -79.288700                     1.0  \n2    -79.288700                     1.0  \n3   -110.874450                     1.0  \n4   -155.778140                     1.0  \n5   -155.257800                     1.0  \n6    -84.053900                     1.0  \n7    -85.325950                     1.0  \n8    -81.468956                     1.0  \n9    -81.516270                     1.0  \n10   -81.516270                     1.0  \n11   -75.789700                     1.0  \n12  -115.078740                     1.0  \n13   -88.621110                     1.0  \n14   -81.652590                     1.0  \n15   -81.705560                     1.0  \n16   -81.635560                     1.0  \n17   -95.268906                     1.0  \n18   -82.045600                     1.0  \n19   -83.544700                     1.0  \n20   -96.011665                     1.0  \n21   -95.998940                     1.0  \n22   -95.976400                     1.0  \n23   -96.015850                     1.0  \n24   -82.118300                     1.0  \n25   -84.407680                     1.0  \n26  -118.330830                     1.0  \n27   -78.896400                     1.0  \n28   -88.810000                     1.0  \n29   -88.810000                     1.0  \n..          ...                     ...  \n797   21.141111                     1.0  \n798   21.141111                     1.0  \n799   21.141111                     1.0  \n800   21.179460                     1.0  \n801   21.179460                     1.0  \n802   21.179460                     1.0  \n803   21.179460                     1.0  \n804   21.179460                     1.0  \n805   22.331390                     1.0  \n806   22.331390                     1.0  \n807   22.331390                     1.0  \n808   22.331390                     1.0  \n809   21.886948                     1.0  \n810   21.886948                     1.0  \n811   21.886948                     1.0  \n812   22.870840                     1.0  \n813   22.870840                     1.0  \n814   22.870840                     1.0  \n815   23.308027                     1.0  \n816   23.308027                     1.0  \n817   23.308027                     1.0  \n818   23.308027                     1.0  \n819   23.308027                     1.0  \n820   24.365570                     1.0  \n821   24.365570                     1.0  \n822   24.365570                     1.0  \n823   24.365570                     1.0  \n824   11.873400                     1.0  \n825  153.152700                     1.0  \n826  153.152700                     1.0  \n\n[827 rows x 11 columns]",
            "text/html": "<div>\n<style>\n    .dataframe thead tr:only-child th {\n        text-align: right;\n    }\n\n    .dataframe thead th {\n        text-align: left;\n    }\n\n    .dataframe tbody tr th {\n        vertical-align: top;\n    }\n</style>\n<table border=\"1\" class=\"dataframe\">\n  <thead>\n    <tr style=\"text-align: right;\">\n      <th></th>\n      <th>location</th>\n      <th>city</th>\n      <th>country</th>\n      <th>pollutant</th>\n      <th>value</th>\n      <th>timestamp</th>\n      <th>unit</th>\n      <th>source_name</th>\n      <th>latitude</th>\n      <th>longitude</th>\n      <th>averaged_over_in_hours</th>\n    </tr>\n  </thead>\n  <tbody>\n    <tr>\n      <th>0</th>\n      <td>Ponca City</td>\n      <td>KAY</td>\n      <td>US</td>\n      <td>so2</td>\n      <td>0.0</td>\n      <td>2018-02-11 11:00:00+00:00</td>\n      <td>ppm</td>\n      <td>AirNow</td>\n      <td>36.697190</td>\n      <td>-97.081276</td>\n      <td>1.0</td>\n    </tr>\n    <tr>\n      <th>1</th>\n      <td>Blackstone</td>\n      <td>LEE</td>\n      <td>US</td>\n      <td>so2</td>\n      <td>0.0</td>\n      <td>2018-02-11 11:00:00+00:00</td>\n      <td>ppm</td>\n      <td>AirNow</td>\n      <td>35.432500</td>\n      <td>-79.288700</td>\n      <td>1.0</td>\n    </tr>\n    <tr>\n      <th>2</th>\n      <td>Blackstone</td>\n      <td>LEE</td>\n      <td>US</td>\n      <td>no2</td>\n      <td>0.0</td>\n      <td>2018-02-11 11:00:00+00:00</td>\n      <td>ppm</td>\n      <td>AirNow</td>\n      <td>35.432500</td>\n      <td>-79.288700</td>\n      <td>1.0</td>\n    </tr>\n    <tr>\n      <th>3</th>\n      <td>Miami Town Site</td>\n      <td>GILA</td>\n      <td>US</td>\n      <td>so2</td>\n      <td>0.0</td>\n      <td>2017-12-18 14:00:00+00:00</td>\n      <td>ppm</td>\n      <td>AirNow</td>\n      <td>33.397434</td>\n      <td>-110.874450</td>\n      <td>1.0</td>\n    </tr>\n    <tr>\n      <th>4</th>\n      <td>Ocean View</td>\n      <td>Hilo</td>\n      <td>US</td>\n      <td>so2</td>\n      <td>0.0</td>\n      <td>2018-02-11 11:00:00+00:00</td>\n      <td>ppm</td>\n      <td>AirNow</td>\n      <td>19.117561</td>\n      <td>-155.778140</td>\n      <td>1.0</td>\n    </tr>\n    <tr>\n      <th>5</th>\n      <td>Hawaii Volcanoes NP</td>\n      <td>Hilo</td>\n      <td>US</td>\n      <td>so2</td>\n      <td>0.0</td>\n      <td>2018-02-10 16:00:00+00:00</td>\n      <td>ppm</td>\n      <td>AirNow</td>\n      <td>19.430800</td>\n      <td>-155.257800</td>\n      <td>1.0</td>\n    </tr>\n    <tr>\n      <th>6</th>\n      <td>Lima</td>\n      <td>Lima</td>\n      <td>US</td>\n      <td>so2</td>\n      <td>0.0</td>\n      <td>2018-02-11 11:00:00+00:00</td>\n      <td>ppm</td>\n      <td>AirNow</td>\n      <td>40.771000</td>\n      <td>-84.053900</td>\n      <td>1.0</td>\n    </tr>\n    <tr>\n      <th>7</th>\n      <td>Rome-Kraftsman</td>\n      <td>Rome</td>\n      <td>US</td>\n      <td>so2</td>\n      <td>0.0</td>\n      <td>2018-02-11 11:00:00+00:00</td>\n      <td>ppm</td>\n      <td>AirNow</td>\n      <td>34.243645</td>\n      <td>-85.325950</td>\n      <td>1.0</td>\n    </tr>\n    <tr>\n      <th>8</th>\n      <td>East High School</td>\n      <td>Akron</td>\n      <td>US</td>\n      <td>so2</td>\n      <td>0.0</td>\n      <td>2018-02-11 11:00:00+00:00</td>\n      <td>ppm</td>\n      <td>AirNow</td>\n      <td>41.063526</td>\n      <td>-81.468956</td>\n      <td>1.0</td>\n    </tr>\n    <tr>\n      <th>9</th>\n      <td>Akron - NIHF_STEM</td>\n      <td>Akron</td>\n      <td>US</td>\n      <td>co</td>\n      <td>0.0</td>\n      <td>2017-04-25 17:00:00+00:00</td>\n      <td>ppm</td>\n      <td>AirNow</td>\n      <td>41.079140</td>\n      <td>-81.516270</td>\n      <td>1.0</td>\n    </tr>\n    <tr>\n      <th>10</th>\n      <td>Akron - NIHF_STEM</td>\n      <td>Akron</td>\n      <td>US</td>\n      <td>so2</td>\n      <td>0.0</td>\n      <td>2017-04-25 17:00:00+00:00</td>\n      <td>ppm</td>\n      <td>AirNow</td>\n      <td>41.079140</td>\n      <td>-81.516270</td>\n      <td>1.0</td>\n    </tr>\n    <tr>\n      <th>11</th>\n      <td>KUT2</td>\n      <td>BERKS</td>\n      <td>US</td>\n      <td>o3</td>\n      <td>0.0</td>\n      <td>2018-02-11 11:00:00+00:00</td>\n      <td>ppm</td>\n      <td>AirNow</td>\n      <td>40.514080</td>\n      <td>-75.789700</td>\n      <td>1.0</td>\n    </tr>\n    <tr>\n      <th>12</th>\n      <td>Jerome Mack</td>\n      <td>CLARK</td>\n      <td>US</td>\n      <td>so2</td>\n      <td>0.0</td>\n      <td>2018-02-11 11:00:00+00:00</td>\n      <td>ppm</td>\n      <td>AirNow</td>\n      <td>36.141876</td>\n      <td>-115.078740</td>\n      <td>1.0</td>\n    </tr>\n    <tr>\n      <th>13</th>\n      <td>Horicon Wildlife Are</td>\n      <td>DODGE</td>\n      <td>US</td>\n      <td>so2</td>\n      <td>0.0</td>\n      <td>2018-02-08 19:00:00+00:00</td>\n      <td>ppm</td>\n      <td>AirNow</td>\n      <td>43.466110</td>\n      <td>-88.621110</td>\n      <td>1.0</td>\n    </tr>\n    <tr>\n      <th>14</th>\n      <td>SPG</td>\n      <td>DUVAL</td>\n      <td>US</td>\n      <td>so2</td>\n      <td>0.0</td>\n      <td>2018-02-11 11:00:00+00:00</td>\n      <td>ppm</td>\n      <td>AirNow</td>\n      <td>30.309196</td>\n      <td>-81.652590</td>\n      <td>1.0</td>\n    </tr>\n    <tr>\n      <th>15</th>\n      <td>Lee HS</td>\n      <td>DUVAL</td>\n      <td>US</td>\n      <td>co</td>\n      <td>0.0</td>\n      <td>2017-12-21 09:00:00+00:00</td>\n      <td>ppm</td>\n      <td>AirNow</td>\n      <td>30.308535</td>\n      <td>-81.705560</td>\n      <td>1.0</td>\n    </tr>\n    <tr>\n      <th>16</th>\n      <td>Kooker Park</td>\n      <td>DUVAL</td>\n      <td>US</td>\n      <td>so2</td>\n      <td>0.0</td>\n      <td>2018-02-11 11:00:00+00:00</td>\n      <td>ppm</td>\n      <td>AirNow</td>\n      <td>30.356112</td>\n      <td>-81.635560</td>\n      <td>1.0</td>\n    </tr>\n    <tr>\n      <th>17</th>\n      <td>Pryor</td>\n      <td>MAYES</td>\n      <td>US</td>\n      <td>so2</td>\n      <td>0.0</td>\n      <td>2018-02-11 11:00:00+00:00</td>\n      <td>ppm</td>\n      <td>AirNow</td>\n      <td>36.229088</td>\n      <td>-95.268906</td>\n      <td>1.0</td>\n    </tr>\n    <tr>\n      <th>18</th>\n      <td>Pomeroy</td>\n      <td>MEIGS</td>\n      <td>US</td>\n      <td>so2</td>\n      <td>0.0</td>\n      <td>2016-07-07 16:00:00+00:00</td>\n      <td>ppm</td>\n      <td>AirNow</td>\n      <td>39.038500</td>\n      <td>-82.045600</td>\n      <td>1.0</td>\n    </tr>\n    <tr>\n      <th>19</th>\n      <td>Macon Forestry</td>\n      <td>Macon</td>\n      <td>US</td>\n      <td>so2</td>\n      <td>0.0</td>\n      <td>2018-02-11 11:00:00+00:00</td>\n      <td>ppm</td>\n      <td>AirNow</td>\n      <td>32.803100</td>\n      <td>-83.544700</td>\n      <td>1.0</td>\n    </tr>\n    <tr>\n      <th>20</th>\n      <td>Tulsa 0175</td>\n      <td>TULSA</td>\n      <td>US</td>\n      <td>so2</td>\n      <td>0.0</td>\n      <td>2018-02-11 11:00:00+00:00</td>\n      <td>ppm</td>\n      <td>AirNow</td>\n      <td>36.149876</td>\n      <td>-96.011665</td>\n      <td>1.0</td>\n    </tr>\n    <tr>\n      <th>21</th>\n      <td>Tulsa 0235</td>\n      <td>TULSA</td>\n      <td>US</td>\n      <td>so2</td>\n      <td>0.0</td>\n      <td>2018-02-11 11:00:00+00:00</td>\n      <td>ppm</td>\n      <td>AirNow</td>\n      <td>36.126945</td>\n      <td>-95.998940</td>\n      <td>1.0</td>\n    </tr>\n    <tr>\n      <th>22</th>\n      <td>Tulsa</td>\n      <td>Tulsa</td>\n      <td>US</td>\n      <td>so2</td>\n      <td>0.0</td>\n      <td>2018-02-11 11:00:00+00:00</td>\n      <td>ppm</td>\n      <td>AirNow</td>\n      <td>36.206700</td>\n      <td>-95.976400</td>\n      <td>1.0</td>\n    </tr>\n    <tr>\n      <th>23</th>\n      <td>Tulsa 0179</td>\n      <td>Tulsa</td>\n      <td>US</td>\n      <td>so2</td>\n      <td>0.0</td>\n      <td>2018-02-11 11:00:00+00:00</td>\n      <td>ppm</td>\n      <td>AirNow</td>\n      <td>36.154830</td>\n      <td>-96.015850</td>\n      <td>1.0</td>\n    </tr>\n    <tr>\n      <th>24</th>\n      <td>Athens Supersite</td>\n      <td>Athens</td>\n      <td>US</td>\n      <td>so2</td>\n      <td>0.0</td>\n      <td>2017-04-13 14:00:00+00:00</td>\n      <td>ppm</td>\n      <td>AirNow</td>\n      <td>39.308000</td>\n      <td>-82.118300</td>\n      <td>1.0</td>\n    </tr>\n    <tr>\n      <th>25</th>\n      <td>Amanda  Elementary</td>\n      <td>BUTLER</td>\n      <td>US</td>\n      <td>so2</td>\n      <td>0.0</td>\n      <td>2018-02-11 11:00:00+00:00</td>\n      <td>ppm</td>\n      <td>AirNow</td>\n      <td>39.478848</td>\n      <td>-84.407680</td>\n      <td>1.0</td>\n    </tr>\n    <tr>\n      <th>26</th>\n      <td>NCore - White Mounta</td>\n      <td>Bishop</td>\n      <td>US</td>\n      <td>so2</td>\n      <td>0.0</td>\n      <td>2017-12-17 05:00:00+00:00</td>\n      <td>ppm</td>\n      <td>AirNow</td>\n      <td>37.360703</td>\n      <td>-118.330830</td>\n      <td>1.0</td>\n    </tr>\n    <tr>\n      <th>27</th>\n      <td>Durham Armory</td>\n      <td>Durham</td>\n      <td>US</td>\n      <td>so2</td>\n      <td>0.0</td>\n      <td>2018-02-11 11:00:00+00:00</td>\n      <td>ppm</td>\n      <td>AirNow</td>\n      <td>35.991900</td>\n      <td>-78.896400</td>\n      <td>1.0</td>\n    </tr>\n    <tr>\n      <th>28</th>\n      <td>POTAWATOMI</td>\n      <td>FOREST</td>\n      <td>US</td>\n      <td>no2</td>\n      <td>0.0</td>\n      <td>2016-03-23 15:00:00+00:00</td>\n      <td>ppm</td>\n      <td>AirNow</td>\n      <td>45.563900</td>\n      <td>-88.810000</td>\n      <td>1.0</td>\n    </tr>\n    <tr>\n      <th>29</th>\n      <td>POTAWATOMI</td>\n      <td>FOREST</td>\n      <td>US</td>\n      <td>so2</td>\n      <td>0.0</td>\n      <td>2018-02-08 19:00:00+00:00</td>\n      <td>ppm</td>\n      <td>AirNow</td>\n      <td>45.563900</td>\n      <td>-88.810000</td>\n      <td>1.0</td>\n    </tr>\n    <tr>\n      <th>...</th>\n      <td>...</td>\n      <td>...</td>\n      <td>...</td>\n      <td>...</td>\n      <td>...</td>\n      <td>...</td>\n      <td>...</td>\n      <td>...</td>\n      <td>...</td>\n      <td>...</td>\n      <td>...</td>\n    </tr>\n    <tr>\n      <th>797</th>\n      <td>LT00031</td>\n      <td>Klaipeda</td>\n      <td>LT</td>\n      <td>so2</td>\n      <td>0.0</td>\n      <td>2018-02-13 01:00:00+00:00</td>\n      <td>µg/m³</td>\n      <td>EEA Lithuania</td>\n      <td>55.707780</td>\n      <td>21.141111</td>\n      <td>1.0</td>\n    </tr>\n    <tr>\n      <th>798</th>\n      <td>LT00031</td>\n      <td>Klaipeda</td>\n      <td>LT</td>\n      <td>co</td>\n      <td>0.0</td>\n      <td>2018-02-13 01:00:00+00:00</td>\n      <td>µg/m³</td>\n      <td>EEA Lithuania</td>\n      <td>55.707780</td>\n      <td>21.141111</td>\n      <td>1.0</td>\n    </tr>\n    <tr>\n      <th>799</th>\n      <td>LT00031</td>\n      <td>Klaipeda</td>\n      <td>LT</td>\n      <td>no2</td>\n      <td>0.0</td>\n      <td>2018-02-13 01:00:00+00:00</td>\n      <td>µg/m³</td>\n      <td>EEA Lithuania</td>\n      <td>55.707780</td>\n      <td>21.141111</td>\n      <td>1.0</td>\n    </tr>\n    <tr>\n      <th>800</th>\n      <td>LT00033</td>\n      <td>Klaipeda</td>\n      <td>LT</td>\n      <td>o3</td>\n      <td>0.0</td>\n      <td>2018-02-13 01:00:00+00:00</td>\n      <td>µg/m³</td>\n      <td>EEA Lithuania</td>\n      <td>55.690000</td>\n      <td>21.179460</td>\n      <td>1.0</td>\n    </tr>\n    <tr>\n      <th>801</th>\n      <td>LT00033</td>\n      <td>Klaipeda</td>\n      <td>LT</td>\n      <td>pm25</td>\n      <td>0.0</td>\n      <td>2018-02-13 01:00:00+00:00</td>\n      <td>µg/m³</td>\n      <td>EEA Lithuania</td>\n      <td>55.690000</td>\n      <td>21.179460</td>\n      <td>1.0</td>\n    </tr>\n    <tr>\n      <th>802</th>\n      <td>LT00033</td>\n      <td>Klaipeda</td>\n      <td>LT</td>\n      <td>pm10</td>\n      <td>0.0</td>\n      <td>2018-02-13 01:00:00+00:00</td>\n      <td>µg/m³</td>\n      <td>EEA Lithuania</td>\n      <td>55.690000</td>\n      <td>21.179460</td>\n      <td>1.0</td>\n    </tr>\n    <tr>\n      <th>803</th>\n      <td>LT00033</td>\n      <td>Klaipeda</td>\n      <td>LT</td>\n      <td>co</td>\n      <td>0.0</td>\n      <td>2018-02-13 01:00:00+00:00</td>\n      <td>µg/m³</td>\n      <td>EEA Lithuania</td>\n      <td>55.690000</td>\n      <td>21.179460</td>\n      <td>1.0</td>\n    </tr>\n    <tr>\n      <th>804</th>\n      <td>LT00033</td>\n      <td>Klaipeda</td>\n      <td>LT</td>\n      <td>no2</td>\n      <td>0.0</td>\n      <td>2018-02-13 01:00:00+00:00</td>\n      <td>µg/m³</td>\n      <td>EEA Lithuania</td>\n      <td>55.690000</td>\n      <td>21.179460</td>\n      <td>1.0</td>\n    </tr>\n    <tr>\n      <th>805</th>\n      <td>LT00023</td>\n      <td>Telšiai</td>\n      <td>LT</td>\n      <td>pm10</td>\n      <td>0.0</td>\n      <td>2018-02-13 04:00:00+00:00</td>\n      <td>µg/m³</td>\n      <td>EEA Lithuania</td>\n      <td>56.309723</td>\n      <td>22.331390</td>\n      <td>1.0</td>\n    </tr>\n    <tr>\n      <th>806</th>\n      <td>LT00023</td>\n      <td>Telšiai</td>\n      <td>LT</td>\n      <td>no2</td>\n      <td>0.0</td>\n      <td>2018-02-13 04:00:00+00:00</td>\n      <td>µg/m³</td>\n      <td>EEA Lithuania</td>\n      <td>56.309723</td>\n      <td>22.331390</td>\n      <td>1.0</td>\n    </tr>\n    <tr>\n      <th>807</th>\n      <td>LT00023</td>\n      <td>Telšiai</td>\n      <td>LT</td>\n      <td>o3</td>\n      <td>0.0</td>\n      <td>2018-02-13 04:00:00+00:00</td>\n      <td>µg/m³</td>\n      <td>EEA Lithuania</td>\n      <td>56.309723</td>\n      <td>22.331390</td>\n      <td>1.0</td>\n    </tr>\n    <tr>\n      <th>808</th>\n      <td>LT00023</td>\n      <td>Telšiai</td>\n      <td>LT</td>\n      <td>so2</td>\n      <td>0.0</td>\n      <td>2018-02-13 04:00:00+00:00</td>\n      <td>µg/m³</td>\n      <td>EEA Lithuania</td>\n      <td>56.309723</td>\n      <td>22.331390</td>\n      <td>1.0</td>\n    </tr>\n    <tr>\n      <th>809</th>\n      <td>LT00053</td>\n      <td>Telšiai</td>\n      <td>LT</td>\n      <td>no2</td>\n      <td>0.0</td>\n      <td>2018-02-13 01:00:00+00:00</td>\n      <td>µg/m³</td>\n      <td>EEA Lithuania</td>\n      <td>56.008335</td>\n      <td>21.886948</td>\n      <td>1.0</td>\n    </tr>\n    <tr>\n      <th>810</th>\n      <td>LT00053</td>\n      <td>Telšiai</td>\n      <td>LT</td>\n      <td>o3</td>\n      <td>0.0</td>\n      <td>2018-02-13 01:00:00+00:00</td>\n      <td>µg/m³</td>\n      <td>EEA Lithuania</td>\n      <td>56.008335</td>\n      <td>21.886948</td>\n      <td>1.0</td>\n    </tr>\n    <tr>\n      <th>811</th>\n      <td>LT00053</td>\n      <td>Telšiai</td>\n      <td>LT</td>\n      <td>so2</td>\n      <td>0.0</td>\n      <td>2018-02-13 01:00:00+00:00</td>\n      <td>µg/m³</td>\n      <td>EEA Lithuania</td>\n      <td>56.008335</td>\n      <td>21.886948</td>\n      <td>1.0</td>\n    </tr>\n    <tr>\n      <th>812</th>\n      <td>LT00021</td>\n      <td>Šiauliai</td>\n      <td>LT</td>\n      <td>pm10</td>\n      <td>0.0</td>\n      <td>2018-02-13 04:00:00+00:00</td>\n      <td>µg/m³</td>\n      <td>EEA Lithuania</td>\n      <td>56.319440</td>\n      <td>22.870840</td>\n      <td>1.0</td>\n    </tr>\n    <tr>\n      <th>813</th>\n      <td>LT00021</td>\n      <td>Šiauliai</td>\n      <td>LT</td>\n      <td>pm25</td>\n      <td>0.0</td>\n      <td>2018-02-13 04:00:00+00:00</td>\n      <td>µg/m³</td>\n      <td>EEA Lithuania</td>\n      <td>56.319440</td>\n      <td>22.870840</td>\n      <td>1.0</td>\n    </tr>\n    <tr>\n      <th>814</th>\n      <td>LT00021</td>\n      <td>Šiauliai</td>\n      <td>LT</td>\n      <td>so2</td>\n      <td>0.0</td>\n      <td>2018-02-13 04:00:00+00:00</td>\n      <td>µg/m³</td>\n      <td>EEA Lithuania</td>\n      <td>56.319440</td>\n      <td>22.870840</td>\n      <td>1.0</td>\n    </tr>\n    <tr>\n      <th>815</th>\n      <td>LT00022</td>\n      <td>Šiauliai</td>\n      <td>LT</td>\n      <td>so2</td>\n      <td>0.0</td>\n      <td>2018-02-13 04:00:00+00:00</td>\n      <td>µg/m³</td>\n      <td>EEA Lithuania</td>\n      <td>55.937836</td>\n      <td>23.308027</td>\n      <td>1.0</td>\n    </tr>\n    <tr>\n      <th>816</th>\n      <td>LT00022</td>\n      <td>Šiauliai</td>\n      <td>LT</td>\n      <td>co</td>\n      <td>0.0</td>\n      <td>2018-02-13 04:00:00+00:00</td>\n      <td>µg/m³</td>\n      <td>EEA Lithuania</td>\n      <td>55.937836</td>\n      <td>23.308027</td>\n      <td>1.0</td>\n    </tr>\n    <tr>\n      <th>817</th>\n      <td>LT00022</td>\n      <td>Šiauliai</td>\n      <td>LT</td>\n      <td>pm10</td>\n      <td>0.0</td>\n      <td>2018-02-13 04:00:00+00:00</td>\n      <td>µg/m³</td>\n      <td>EEA Lithuania</td>\n      <td>55.937836</td>\n      <td>23.308027</td>\n      <td>1.0</td>\n    </tr>\n    <tr>\n      <th>818</th>\n      <td>LT00022</td>\n      <td>Šiauliai</td>\n      <td>LT</td>\n      <td>no2</td>\n      <td>0.0</td>\n      <td>2018-02-13 04:00:00+00:00</td>\n      <td>µg/m³</td>\n      <td>EEA Lithuania</td>\n      <td>55.937836</td>\n      <td>23.308027</td>\n      <td>1.0</td>\n    </tr>\n    <tr>\n      <th>819</th>\n      <td>LT00022</td>\n      <td>Šiauliai</td>\n      <td>LT</td>\n      <td>o3</td>\n      <td>0.0</td>\n      <td>2018-02-13 04:00:00+00:00</td>\n      <td>µg/m³</td>\n      <td>EEA Lithuania</td>\n      <td>55.937836</td>\n      <td>23.308027</td>\n      <td>1.0</td>\n    </tr>\n    <tr>\n      <th>820</th>\n      <td>LT00012</td>\n      <td>Panevežys</td>\n      <td>LT</td>\n      <td>no2</td>\n      <td>0.0</td>\n      <td>2018-02-13 04:00:00+00:00</td>\n      <td>µg/m³</td>\n      <td>EEA Lithuania</td>\n      <td>55.725000</td>\n      <td>24.365570</td>\n      <td>1.0</td>\n    </tr>\n    <tr>\n      <th>821</th>\n      <td>LT00012</td>\n      <td>Panevežys</td>\n      <td>LT</td>\n      <td>co</td>\n      <td>0.0</td>\n      <td>2018-02-13 04:00:00+00:00</td>\n      <td>µg/m³</td>\n      <td>EEA Lithuania</td>\n      <td>55.725000</td>\n      <td>24.365570</td>\n      <td>1.0</td>\n    </tr>\n    <tr>\n      <th>822</th>\n      <td>LT00012</td>\n      <td>Panevežys</td>\n      <td>LT</td>\n      <td>pm10</td>\n      <td>0.0</td>\n      <td>2018-02-13 04:00:00+00:00</td>\n      <td>µg/m³</td>\n      <td>EEA Lithuania</td>\n      <td>55.725000</td>\n      <td>24.365570</td>\n      <td>1.0</td>\n    </tr>\n    <tr>\n      <th>823</th>\n      <td>LT00012</td>\n      <td>Panevežys</td>\n      <td>LT</td>\n      <td>o3</td>\n      <td>0.0</td>\n      <td>2018-02-13 04:00:00+00:00</td>\n      <td>µg/m³</td>\n      <td>EEA Lithuania</td>\n      <td>55.725000</td>\n      <td>24.365570</td>\n      <td>1.0</td>\n    </tr>\n    <tr>\n      <th>824</th>\n      <td>PARCO BERTOZZI</td>\n      <td>FAENZA</td>\n      <td>IT</td>\n      <td>o3</td>\n      <td>0.0</td>\n      <td>2018-02-08 23:00:00+00:00</td>\n      <td>µg/m³</td>\n      <td>Arpae Emilia-Romagna</td>\n      <td>44.285600</td>\n      <td>11.873400</td>\n      <td>1.0</td>\n    </tr>\n    <tr>\n      <th>825</th>\n      <td>Lytton</td>\n      <td>South East Queensland</td>\n      <td>AU</td>\n      <td>pm25</td>\n      <td>0.0</td>\n      <td>2018-02-13 01:00:00+00:00</td>\n      <td>µg/m³</td>\n      <td>Australia - Queensland</td>\n      <td>-27.406500</td>\n      <td>153.152700</td>\n      <td>1.0</td>\n    </tr>\n    <tr>\n      <th>826</th>\n      <td>Lytton</td>\n      <td>South East Queensland</td>\n      <td>AU</td>\n      <td>pm10</td>\n      <td>0.0</td>\n      <td>2018-02-13 01:00:00+00:00</td>\n      <td>µg/m³</td>\n      <td>Australia - Queensland</td>\n      <td>-27.406500</td>\n      <td>153.152700</td>\n      <td>1.0</td>\n    </tr>\n  </tbody>\n</table>\n<p>827 rows × 11 columns</p>\n</div>"
          },
          "metadata": {}
        }
      ]
    },
    {
      "metadata": {
        "_cell_guid": "a2313b92-8f03-41e3-a28b-99a0f54397b2",
        "_uuid": "b0f920e6fc8e371f7b4ad10ff7015526552a19d5"
      },
      "cell_type": "markdown",
      "source": "Please feel free to ask any questions you have in this notebook or in the [Q&A forums](https://www.kaggle.com/questions-and-answers)! \n\nAlso, if you want to share or get comments on your kernel, remember you need to make it public first! You can change the visibility of your kernel under the \"Settings\" tab, on the right half of your screen."
    },
    {
      "metadata": {
        "_uuid": "4a9e7f1352b836c45cc64d0d16801f05682fd22e"
      },
      "cell_type": "markdown",
      "source": ""
    }
  ],
  "metadata": {
    "kernelspec": {
      "display_name": "Python 3",
      "language": "python",
      "name": "python3"
    },
    "language_info": {
      "name": "python",
      "version": "3.6.4",
      "mimetype": "text/x-python",
      "codemirror_mode": {
        "name": "ipython",
        "version": 3
      },
      "pygments_lexer": "ipython3",
      "nbconvert_exporter": "python",
      "file_extension": ".py"
    }
  },
  "nbformat": 4,
  "nbformat_minor": 1
}